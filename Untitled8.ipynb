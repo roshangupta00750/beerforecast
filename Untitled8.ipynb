{
 "cells": [
  {
   "cell_type": "code",
   "execution_count": null,
   "metadata": {},
   "outputs": [],
   "source": [
    "I used the beer sales to test a simple auto regressive (AR) model to forecast the sales volume.\n",
    "This Auto Regressive model Forecast."
   ]
  },
  {
   "cell_type": "code",
   "execution_count": 1,
   "metadata": {},
   "outputs": [],
   "source": [
    "import pandas as pd\n",
    "import numpy as np\n",
    "import matplotlib.pyplot as plt"
   ]
  },
  {
   "cell_type": "code",
   "execution_count": 2,
   "metadata": {},
   "outputs": [],
   "source": [
    "beer = pd.read_csv('beer.csv')"
   ]
  },
  {
   "cell_type": "code",
   "execution_count": 3,
   "metadata": {},
   "outputs": [
    {
     "data": {
      "text/html": [
       "<div>\n",
       "<style scoped>\n",
       "    .dataframe tbody tr th:only-of-type {\n",
       "        vertical-align: middle;\n",
       "    }\n",
       "\n",
       "    .dataframe tbody tr th {\n",
       "        vertical-align: top;\n",
       "    }\n",
       "\n",
       "    .dataframe thead th {\n",
       "        text-align: right;\n",
       "    }\n",
       "</style>\n",
       "<table border=\"1\" class=\"dataframe\">\n",
       "  <thead>\n",
       "    <tr style=\"text-align: right;\">\n",
       "      <th></th>\n",
       "      <th>beer_litres</th>\n",
       "      <th>category_name</th>\n",
       "      <th>correct_beer_name</th>\n",
       "      <th>discount_price</th>\n",
       "      <th>final_total</th>\n",
       "      <th>item_name</th>\n",
       "      <th>item_quantity</th>\n",
       "      <th>location_name</th>\n",
       "      <th>date</th>\n",
       "      <th>time</th>\n",
       "      <th>...</th>\n",
       "      <th>subtotal</th>\n",
       "      <th>sub_category_name</th>\n",
       "      <th>table_name</th>\n",
       "      <th>covers</th>\n",
       "      <th>variation</th>\n",
       "      <th>tax_amount</th>\n",
       "      <th>pos_order_date</th>\n",
       "      <th>correct_food_name</th>\n",
       "      <th>beer_consumption</th>\n",
       "      <th>beverage_group</th>\n",
       "    </tr>\n",
       "  </thead>\n",
       "  <tbody>\n",
       "    <tr>\n",
       "      <th>0</th>\n",
       "      <td>NaN</td>\n",
       "      <td>food</td>\n",
       "      <td>\\r</td>\n",
       "      <td>0.0</td>\n",
       "      <td>300.0</td>\n",
       "      <td>veg patty burger</td>\n",
       "      <td>1</td>\n",
       "      <td>bandra</td>\n",
       "      <td>09-04-2015</td>\n",
       "      <td>15:43:08</td>\n",
       "      <td>...</td>\n",
       "      <td>255.11</td>\n",
       "      <td>mains</td>\n",
       "      <td>doolally tap room (bandra)\\r</td>\n",
       "      <td>0</td>\n",
       "      <td>NaN</td>\n",
       "      <td>44.49</td>\n",
       "      <td>09-04-2015</td>\n",
       "      <td>craft burger veg\\r</td>\n",
       "      <td>NaN</td>\n",
       "      <td>NaN</td>\n",
       "    </tr>\n",
       "    <tr>\n",
       "      <th>1</th>\n",
       "      <td>NaN</td>\n",
       "      <td>food</td>\n",
       "      <td>\\r</td>\n",
       "      <td>0.0</td>\n",
       "      <td>250.0</td>\n",
       "      <td>apple p</td>\n",
       "      <td>1</td>\n",
       "      <td>bandra</td>\n",
       "      <td>09-04-2015</td>\n",
       "      <td>15:43:17</td>\n",
       "      <td>...</td>\n",
       "      <td>212.76</td>\n",
       "      <td>desserts</td>\n",
       "      <td>doolally tap room (bandra)\\r</td>\n",
       "      <td>0</td>\n",
       "      <td>NaN</td>\n",
       "      <td>37.11</td>\n",
       "      <td>09-04-2015</td>\n",
       "      <td>apple pie\\r</td>\n",
       "      <td>NaN</td>\n",
       "      <td>NaN</td>\n",
       "    </tr>\n",
       "    <tr>\n",
       "      <th>2</th>\n",
       "      <td>NaN</td>\n",
       "      <td>food</td>\n",
       "      <td>\\r</td>\n",
       "      <td>0.0</td>\n",
       "      <td>300.0</td>\n",
       "      <td>veg patty burger</td>\n",
       "      <td>1</td>\n",
       "      <td>bandra</td>\n",
       "      <td>09-04-2015</td>\n",
       "      <td>15:43:17</td>\n",
       "      <td>...</td>\n",
       "      <td>255.11</td>\n",
       "      <td>mains</td>\n",
       "      <td>doolally tap room (bandra)\\r</td>\n",
       "      <td>0</td>\n",
       "      <td>NaN</td>\n",
       "      <td>44.49</td>\n",
       "      <td>09-04-2015</td>\n",
       "      <td>craft burger veg\\r</td>\n",
       "      <td>NaN</td>\n",
       "      <td>NaN</td>\n",
       "    </tr>\n",
       "    <tr>\n",
       "      <th>3</th>\n",
       "      <td>NaN</td>\n",
       "      <td>food</td>\n",
       "      <td>\\r</td>\n",
       "      <td>0.0</td>\n",
       "      <td>300.0</td>\n",
       "      <td>veg patty burger</td>\n",
       "      <td>1</td>\n",
       "      <td>bandra</td>\n",
       "      <td>09-04-2015</td>\n",
       "      <td>15:43:17</td>\n",
       "      <td>...</td>\n",
       "      <td>255.11</td>\n",
       "      <td>mains</td>\n",
       "      <td>doolally tap room (bandra)\\r</td>\n",
       "      <td>0</td>\n",
       "      <td>NaN</td>\n",
       "      <td>44.49</td>\n",
       "      <td>09-04-2015</td>\n",
       "      <td>craft burger veg\\r</td>\n",
       "      <td>NaN</td>\n",
       "      <td>NaN</td>\n",
       "    </tr>\n",
       "    <tr>\n",
       "      <th>4</th>\n",
       "      <td>NaN</td>\n",
       "      <td>food</td>\n",
       "      <td>\\r</td>\n",
       "      <td>0.0</td>\n",
       "      <td>300.0</td>\n",
       "      <td>bbb</td>\n",
       "      <td>1</td>\n",
       "      <td>bandra</td>\n",
       "      <td>09-04-2015</td>\n",
       "      <td>17:00:46</td>\n",
       "      <td>...</td>\n",
       "      <td>255.11</td>\n",
       "      <td>starters</td>\n",
       "      <td>doolally tap room (bandra)\\r</td>\n",
       "      <td>0</td>\n",
       "      <td>NaN</td>\n",
       "      <td>44.49</td>\n",
       "      <td>09-04-2015</td>\n",
       "      <td>chef special prawns\\r</td>\n",
       "      <td>NaN</td>\n",
       "      <td>NaN</td>\n",
       "    </tr>\n",
       "  </tbody>\n",
       "</table>\n",
       "<p>5 rows × 25 columns</p>\n",
       "</div>"
      ],
      "text/plain": [
       "   beer_litres category_name correct_beer_name  discount_price  final_total  \\\n",
       "0          NaN          food                \\r             0.0        300.0   \n",
       "1          NaN          food                \\r             0.0        250.0   \n",
       "2          NaN          food                \\r             0.0        300.0   \n",
       "3          NaN          food                \\r             0.0        300.0   \n",
       "4          NaN          food                \\r             0.0        300.0   \n",
       "\n",
       "          item_name  item_quantity location_name        date      time  ...  \\\n",
       "0  veg patty burger              1        bandra  09-04-2015  15:43:08  ...   \n",
       "1           apple p              1        bandra  09-04-2015  15:43:17  ...   \n",
       "2  veg patty burger              1        bandra  09-04-2015  15:43:17  ...   \n",
       "3  veg patty burger              1        bandra  09-04-2015  15:43:17  ...   \n",
       "4               bbb              1        bandra  09-04-2015  17:00:46  ...   \n",
       "\n",
       "   subtotal  sub_category_name                    table_name  covers  \\\n",
       "0    255.11              mains  doolally tap room (bandra)\\r       0   \n",
       "1    212.76           desserts  doolally tap room (bandra)\\r       0   \n",
       "2    255.11              mains  doolally tap room (bandra)\\r       0   \n",
       "3    255.11              mains  doolally tap room (bandra)\\r       0   \n",
       "4    255.11           starters  doolally tap room (bandra)\\r       0   \n",
       "\n",
       "  variation  tax_amount pos_order_date      correct_food_name  \\\n",
       "0       NaN       44.49     09-04-2015     craft burger veg\\r   \n",
       "1       NaN       37.11     09-04-2015            apple pie\\r   \n",
       "2       NaN       44.49     09-04-2015     craft burger veg\\r   \n",
       "3       NaN       44.49     09-04-2015     craft burger veg\\r   \n",
       "4       NaN       44.49     09-04-2015  chef special prawns\\r   \n",
       "\n",
       "   beer_consumption  beverage_group  \n",
       "0               NaN             NaN  \n",
       "1               NaN             NaN  \n",
       "2               NaN             NaN  \n",
       "3               NaN             NaN  \n",
       "4               NaN             NaN  \n",
       "\n",
       "[5 rows x 25 columns]"
      ]
     },
     "execution_count": 3,
     "metadata": {},
     "output_type": "execute_result"
    }
   ],
   "source": [
    "beer.head()"
   ]
  },
  {
   "cell_type": "code",
   "execution_count": 4,
   "metadata": {},
   "outputs": [],
   "source": [
    "beer['date'] = pd.to_datetime(beer['date'])"
   ]
  },
  {
   "cell_type": "code",
   "execution_count": 5,
   "metadata": {},
   "outputs": [
    {
     "name": "stdout",
     "output_type": "stream",
     "text": [
      "(649, 25)\n",
      "0   2015-09-04\n",
      "Name: date, dtype: datetime64[ns] 648   2015-04-16\n",
      "Name: date, dtype: datetime64[ns]\n"
     ]
    }
   ],
   "source": [
    "print(beer.shape)\n",
    "print(beer[0:1].date, beer[-1:].date)"
   ]
  },
  {
   "cell_type": "code",
   "execution_count": 6,
   "metadata": {},
   "outputs": [
    {
     "data": {
      "image/png": "[encoded data removed]",
      "text/plain": [
       "<Figure size 1440x1080 with 1 Axes>"
      ]
     },
     "metadata": {
      "needs_background": "light"
     },
     "output_type": "display_data"
    }
   ],
   "source": [
    "beer[['subtotal','date']].plot(x='date', subplots=True, figsize=(20,15))\n",
    "plt.show()"
   ]
  },
  {
   "cell_type": "code",
   "execution_count": null,
   "metadata": {},
   "outputs": [],
   "source": [
    "#Gaining some graphical sight. "
   ]
  },
  {
   "cell_type": "code",
   "execution_count": 83,
   "metadata": {},
   "outputs": [
    {
     "data": {
      "image/png": "[encoded data removed]",
      "text/plain": [
       "<Figure size 720x360 with 2 Axes>"
      ]
     },
     "metadata": {
      "needs_background": "light"
     },
     "output_type": "display_data"
    }
   ],
   "source": [
    "beer[['date', 'beer_litres','subtotal']].plot(x='date', subplots=True, figsize=(10,5))\n",
    "plt.show()"
   ]
  },
  {
   "cell_type": "code",
   "execution_count": null,
   "metadata": {},
   "outputs": [],
   "source": [
    "#Sum the weekely sales from every week to get the total weekly sales volume."
   ]
  },
  {
   "cell_type": "code",
   "execution_count": 7,
   "metadata": {},
   "outputs": [
    {
     "data": {
      "image/png": "[encoded data removed]",
      "text/plain": [
       "<Figure size 1440x360 with 1 Axes>"
      ]
     },
     "metadata": {
      "needs_background": "light"
     },
     "output_type": "display_data"
    }
   ],
   "source": [
    "beer_average_sales_week = beer.groupby(by=['date'], as_index=False)['subtotal'].sum()\n",
    "beer_average_sales = beer_average_sales_week.sort_values('subtotal', ascending=False)\n",
    "\n",
    "plt.figure(figsize=(20,5))\n",
    "plt.plot(beer_average_sales_week.date, beer_average_sales_week.subtotal)\n",
    "plt.show()"
   ]
  },
  {
   "cell_type": "code",
   "execution_count": 8,
   "metadata": {},
   "outputs": [
    {
     "data": {
      "text/html": [
       "<div>\n",
       "<style scoped>\n",
       "    .dataframe tbody tr th:only-of-type {\n",
       "        vertical-align: middle;\n",
       "    }\n",
       "\n",
       "    .dataframe tbody tr th {\n",
       "        vertical-align: top;\n",
       "    }\n",
       "\n",
       "    .dataframe thead th {\n",
       "        text-align: right;\n",
       "    }\n",
       "</style>\n",
       "<table border=\"1\" class=\"dataframe\">\n",
       "  <thead>\n",
       "    <tr style=\"text-align: right;\">\n",
       "      <th></th>\n",
       "      <th>date</th>\n",
       "      <th>subtotal</th>\n",
       "    </tr>\n",
       "  </thead>\n",
       "  <tbody>\n",
       "    <tr>\n",
       "      <th>2</th>\n",
       "      <td>2015-04-15</td>\n",
       "      <td>162565.00</td>\n",
       "    </tr>\n",
       "    <tr>\n",
       "      <th>1</th>\n",
       "      <td>2015-04-14</td>\n",
       "      <td>49710.00</td>\n",
       "    </tr>\n",
       "    <tr>\n",
       "      <th>3</th>\n",
       "      <td>2015-04-16</td>\n",
       "      <td>19490.00</td>\n",
       "    </tr>\n",
       "    <tr>\n",
       "      <th>4</th>\n",
       "      <td>2015-09-04</td>\n",
       "      <td>1573.96</td>\n",
       "    </tr>\n",
       "    <tr>\n",
       "      <th>0</th>\n",
       "      <td>2015-04-13</td>\n",
       "      <td>1500.00</td>\n",
       "    </tr>\n",
       "  </tbody>\n",
       "</table>\n",
       "</div>"
      ],
      "text/plain": [
       "        date   subtotal\n",
       "2 2015-04-15  162565.00\n",
       "1 2015-04-14   49710.00\n",
       "3 2015-04-16   19490.00\n",
       "4 2015-09-04    1573.96\n",
       "0 2015-04-13    1500.00"
      ]
     },
     "execution_count": 8,
     "metadata": {},
     "output_type": "execute_result"
    }
   ],
   "source": [
    "#The more remunerative weeks\n",
    "beer_average_sales.head()"
   ]
  },
  {
   "cell_type": "code",
   "execution_count": 9,
   "metadata": {},
   "outputs": [
    {
     "data": {
      "text/html": [
       "<div>\n",
       "<style scoped>\n",
       "    .dataframe tbody tr th:only-of-type {\n",
       "        vertical-align: middle;\n",
       "    }\n",
       "\n",
       "    .dataframe tbody tr th {\n",
       "        vertical-align: top;\n",
       "    }\n",
       "\n",
       "    .dataframe thead th {\n",
       "        text-align: right;\n",
       "    }\n",
       "</style>\n",
       "<table border=\"1\" class=\"dataframe\">\n",
       "  <thead>\n",
       "    <tr style=\"text-align: right;\">\n",
       "      <th></th>\n",
       "      <th>date</th>\n",
       "      <th>subtotal</th>\n",
       "    </tr>\n",
       "  </thead>\n",
       "  <tbody>\n",
       "    <tr>\n",
       "      <th>0</th>\n",
       "      <td>2015-04-13</td>\n",
       "      <td>1500.00</td>\n",
       "    </tr>\n",
       "    <tr>\n",
       "      <th>4</th>\n",
       "      <td>2015-09-04</td>\n",
       "      <td>1573.96</td>\n",
       "    </tr>\n",
       "    <tr>\n",
       "      <th>3</th>\n",
       "      <td>2015-04-16</td>\n",
       "      <td>19490.00</td>\n",
       "    </tr>\n",
       "    <tr>\n",
       "      <th>1</th>\n",
       "      <td>2015-04-14</td>\n",
       "      <td>49710.00</td>\n",
       "    </tr>\n",
       "    <tr>\n",
       "      <th>2</th>\n",
       "      <td>2015-04-15</td>\n",
       "      <td>162565.00</td>\n",
       "    </tr>\n",
       "  </tbody>\n",
       "</table>\n",
       "</div>"
      ],
      "text/plain": [
       "        date   subtotal\n",
       "0 2015-04-13    1500.00\n",
       "4 2015-09-04    1573.96\n",
       "3 2015-04-16   19490.00\n",
       "1 2015-04-14   49710.00\n",
       "2 2015-04-15  162565.00"
      ]
     },
     "execution_count": 9,
     "metadata": {},
     "output_type": "execute_result"
    }
   ],
   "source": [
    "beer_average_sales[::-1].head()"
   ]
  },
  {
   "cell_type": "code",
   "execution_count": 10,
   "metadata": {},
   "outputs": [],
   "source": [
    "ts = beer_average_sales_week.set_index('date')"
   ]
  },
  {
   "cell_type": "code",
   "execution_count": 11,
   "metadata": {},
   "outputs": [
    {
     "data": {
      "text/html": [
       "<div>\n",
       "<style scoped>\n",
       "    .dataframe tbody tr th:only-of-type {\n",
       "        vertical-align: middle;\n",
       "    }\n",
       "\n",
       "    .dataframe tbody tr th {\n",
       "        vertical-align: top;\n",
       "    }\n",
       "\n",
       "    .dataframe thead th {\n",
       "        text-align: right;\n",
       "    }\n",
       "</style>\n",
       "<table border=\"1\" class=\"dataframe\">\n",
       "  <thead>\n",
       "    <tr style=\"text-align: right;\">\n",
       "      <th></th>\n",
       "      <th>date</th>\n",
       "      <th>subtotal</th>\n",
       "    </tr>\n",
       "  </thead>\n",
       "  <tbody>\n",
       "    <tr>\n",
       "      <th>0</th>\n",
       "      <td>2015-04-13</td>\n",
       "      <td>1500.00</td>\n",
       "    </tr>\n",
       "    <tr>\n",
       "      <th>4</th>\n",
       "      <td>2015-09-04</td>\n",
       "      <td>1573.96</td>\n",
       "    </tr>\n",
       "    <tr>\n",
       "      <th>3</th>\n",
       "      <td>2015-04-16</td>\n",
       "      <td>19490.00</td>\n",
       "    </tr>\n",
       "    <tr>\n",
       "      <th>1</th>\n",
       "      <td>2015-04-14</td>\n",
       "      <td>49710.00</td>\n",
       "    </tr>\n",
       "    <tr>\n",
       "      <th>2</th>\n",
       "      <td>2015-04-15</td>\n",
       "      <td>162565.00</td>\n",
       "    </tr>\n",
       "  </tbody>\n",
       "</table>\n",
       "</div>"
      ],
      "text/plain": [
       "        date   subtotal\n",
       "0 2015-04-13    1500.00\n",
       "4 2015-09-04    1573.96\n",
       "3 2015-04-16   19490.00\n",
       "1 2015-04-14   49710.00\n",
       "2 2015-04-15  162565.00"
      ]
     },
     "execution_count": 11,
     "metadata": {},
     "output_type": "execute_result"
    }
   ],
   "source": [
    "# The least remunerative weeks\n",
    "beer_average_sales[::-1].head()"
   ]
  },
  {
   "cell_type": "code",
   "execution_count": 12,
   "metadata": {},
   "outputs": [
    {
     "data": {
      "text/html": [
       "<div>\n",
       "<style scoped>\n",
       "    .dataframe tbody tr th:only-of-type {\n",
       "        vertical-align: middle;\n",
       "    }\n",
       "\n",
       "    .dataframe tbody tr th {\n",
       "        vertical-align: top;\n",
       "    }\n",
       "\n",
       "    .dataframe thead th {\n",
       "        text-align: right;\n",
       "    }\n",
       "</style>\n",
       "<table border=\"1\" class=\"dataframe\">\n",
       "  <thead>\n",
       "    <tr style=\"text-align: right;\">\n",
       "      <th></th>\n",
       "      <th>correct_beer_name</th>\n",
       "      <th>subtotal</th>\n",
       "    </tr>\n",
       "  </thead>\n",
       "  <tbody>\n",
       "    <tr>\n",
       "      <th>3</th>\n",
       "      <td>hefeweizen</td>\n",
       "      <td>76250.00</td>\n",
       "    </tr>\n",
       "    <tr>\n",
       "      <th>0</th>\n",
       "      <td>\\r</td>\n",
       "      <td>73338.96</td>\n",
       "    </tr>\n",
       "    <tr>\n",
       "      <th>1</th>\n",
       "      <td>apple cider</td>\n",
       "      <td>36250.00</td>\n",
       "    </tr>\n",
       "    <tr>\n",
       "      <th>5</th>\n",
       "      <td>rauchbier</td>\n",
       "      <td>30750.00</td>\n",
       "    </tr>\n",
       "    <tr>\n",
       "      <th>4</th>\n",
       "      <td>ipa</td>\n",
       "      <td>15250.00</td>\n",
       "    </tr>\n",
       "    <tr>\n",
       "      <th>2</th>\n",
       "      <td>golden pale ale\\r</td>\n",
       "      <td>3000.00</td>\n",
       "    </tr>\n",
       "  </tbody>\n",
       "</table>\n",
       "</div>"
      ],
      "text/plain": [
       "   correct_beer_name  subtotal\n",
       "3         hefeweizen  76250.00\n",
       "0                 \\r  73338.96\n",
       "1        apple cider  36250.00\n",
       "5          rauchbier  30750.00\n",
       "4                ipa  15250.00\n",
       "2  golden pale ale\\r   3000.00"
      ]
     },
     "execution_count": 12,
     "metadata": {},
     "output_type": "execute_result"
    }
   ],
   "source": [
    "# Top performing type of beer in term of sales\n",
    "beer_top_stores = beer.groupby(by=['correct_beer_name'], as_index=False)['subtotal'].sum()\n",
    "beer_top_stores.sort_values('subtotal', ascending=False)"
   ]
  },
  {
   "cell_type": "code",
   "execution_count": 13,
   "metadata": {},
   "outputs": [
    {
     "data": {
      "text/html": [
       "<div>\n",
       "<style scoped>\n",
       "    .dataframe tbody tr th:only-of-type {\n",
       "        vertical-align: middle;\n",
       "    }\n",
       "\n",
       "    .dataframe tbody tr th {\n",
       "        vertical-align: top;\n",
       "    }\n",
       "\n",
       "    .dataframe thead th {\n",
       "        text-align: right;\n",
       "    }\n",
       "</style>\n",
       "<table border=\"1\" class=\"dataframe\">\n",
       "  <thead>\n",
       "    <tr style=\"text-align: right;\">\n",
       "      <th></th>\n",
       "      <th>category_name</th>\n",
       "      <th>subtotal</th>\n",
       "    </tr>\n",
       "  </thead>\n",
       "  <tbody>\n",
       "    <tr>\n",
       "      <th>0</th>\n",
       "      <td>beer</td>\n",
       "      <td>161500.00</td>\n",
       "    </tr>\n",
       "    <tr>\n",
       "      <th>2</th>\n",
       "      <td>food</td>\n",
       "      <td>72598.96</td>\n",
       "    </tr>\n",
       "    <tr>\n",
       "      <th>1</th>\n",
       "      <td>beverage</td>\n",
       "      <td>740.00</td>\n",
       "    </tr>\n",
       "  </tbody>\n",
       "</table>\n",
       "</div>"
      ],
      "text/plain": [
       "  category_name   subtotal\n",
       "0          beer  161500.00\n",
       "2          food   72598.96\n",
       "1      beverage     740.00"
      ]
     },
     "execution_count": 13,
     "metadata": {},
     "output_type": "execute_result"
    }
   ],
   "source": [
    "# Top performing type of category in term of beer sales\n",
    "beer_top_stores = beer.groupby(by=['category_name'], as_index=False)['subtotal'].sum()\n",
    "beer_top_stores.sort_values('subtotal', ascending=False)"
   ]
  },
  {
   "cell_type": "code",
   "execution_count": null,
   "metadata": {},
   "outputs": [],
   "source": [
    "Forecast of the total sales volume"
   ]
  },
  {
   "cell_type": "code",
   "execution_count": 14,
   "metadata": {},
   "outputs": [],
   "source": [
    "#Since the AR model implemented in the statsmodels library allows to include only consecutive seasonality terms, I implement the model manually.\n",
    "#In this way I can use non consecutive seasonality.\n",
    "from sklearn.linear_model import LinearRegression\n",
    "def fit_ar_model(ts, orders):\n",
    "    X=np.array([ ts.values[(i-orders)].squeeze() if i >= np.max(orders) else np.array(len(orders) * [np.nan]) for i in range(len(ts))])  \n",
    "    mask = ~np.isnan(X[:,:1]).squeeze()\n",
    "    \n",
    "    Y= ts.values\n",
    "    \n",
    "    lin_reg=LinearRegression()\n",
    "    \n",
    "    lin_reg.fit(X[mask],Y[mask])\n",
    "    \n",
    "    print(lin_reg.coef_, lin_reg.intercept_)\n",
    "\n",
    "    print('Score factor: %.2f' % lin_reg.score(X[mask],Y[mask]))\n",
    "    \n",
    "    return lin_reg.coef_, lin_reg.intercept_\n",
    "    \n",
    "def predict_ar_model(ts, orders, coef, intercept):\n",
    "    return np.array([np.sum(np.dot(coef, ts.values[(i-orders)].squeeze())) + intercept  if i >= np.max(orders) else np.nan for i in range(len(ts))])"
   ]
  },
  {
   "cell_type": "code",
   "execution_count": null,
   "metadata": {},
   "outputs": [],
   "source": [
    "#There are two different array values which i took to attain the score factor."
   ]
  },
  {
   "cell_type": "code",
   "execution_count": 66,
   "metadata": {},
   "outputs": [
    {
     "name": "stdout",
     "output_type": "stream",
     "text": [
      "[[ 0.1020483 -0.0343858 -0.0343858]] [3003.67505354]\n",
      "Score factor: 1.00\n"
     ]
    },
    {
     "data": {
      "image/png": "[encoded data removed]",
      "text/plain": [
       "<Figure size 1440x360 with 1 Axes>"
      ]
     },
     "metadata": {
      "needs_background": "light"
     },
     "output_type": "display_data"
    }
   ],
   "source": [
    "orders=np.array([1,3,3])\n",
    "coef, intercept = fit_ar_model(ts,orders)\n",
    "pred=pd.DataFrame(index=ts.index, data=predict_ar_model(ts, orders, coef, intercept))\n",
    "plt.figure(figsize=(20,5))\n",
    "plt.plot(ts, 'o')\n",
    "plt.plot(pred)\n",
    "plt.show()"
   ]
  },
  {
   "cell_type": "code",
   "execution_count": 67,
   "metadata": {},
   "outputs": [
    {
     "name": "stdout",
     "output_type": "stream",
     "text": [
      "AR Residuals: avg 0.00, std 0.00\n"
     ]
    },
    {
     "data": {
      "image/png": "[encoded data removed]",
      "text/plain": [
       "<Figure size 1440x360 with 1 Axes>"
      ]
     },
     "metadata": {
      "needs_background": "light"
     },
     "output_type": "display_data"
    }
   ],
   "source": [
    "diff=(ts['subtotal']-pred[0])/ts['subtotal']\n",
    "\n",
    "print('AR Residuals: avg %.2f, std %.2f' % (diff.mean(), diff.std()))\n",
    " \n",
    "plt.figure(figsize=(20,5))\n",
    "plt.plot(diff, c='orange')\n",
    "plt.grid()\n",
    "plt.show()\n"
   ]
  },
  {
   "cell_type": "code",
   "execution_count": null,
   "metadata": {},
   "outputs": [],
   "source": [
    "The predictive model has an R^2 score factor of 1.0 (max score for perfect prediction would be 1). The residual distribution is centered in 0 with an STD of 0%."
   ]
  },
  {
   "cell_type": "code",
   "execution_count": 60,
   "metadata": {},
   "outputs": [
    {
     "name": "stdout",
     "output_type": "stream",
     "text": [
      "[[-0.28331343 -0.28331343 -0.28331343]] [121774.98114853]\n",
      "Score factor: 0.63\n"
     ]
    },
    {
     "data": {
      "image/png": "[encoded data removed]",
      "text/plain": [
       "<Figure size 1440x360 with 1 Axes>"
      ]
     },
     "metadata": {
      "needs_background": "light"
     },
     "output_type": "display_data"
    }
   ],
   "source": [
    "orders=np.array([2,2,2])\n",
    "coef, intercept = fit_ar_model(ts,orders)\n",
    "pred=pd.DataFrame(index=ts.index, data=predict_ar_model(ts, orders, coef, intercept))\n",
    "plt.figure(figsize=(20,5))\n",
    "plt.plot(ts, 'o')\n",
    "plt.plot(pred)\n",
    "plt.show()"
   ]
  },
  {
   "cell_type": "code",
   "execution_count": 61,
   "metadata": {},
   "outputs": [
    {
     "name": "stdout",
     "output_type": "stream",
     "text": [
      "AR Residuals: avg 2.87, std 7.59\n"
     ]
    },
    {
     "data": {
      "image/png": "[encoded data removed]",
      "text/plain": [
       "<Figure size 1440x360 with 1 Axes>"
      ]
     },
     "metadata": {
      "needs_background": "light"
     },
     "output_type": "display_data"
    }
   ],
   "source": [
    "diff=(ts['subtotal']-pred[0])/ts['subtotal']\n",
    "\n",
    "print('AR Residuals: avg %.2f, std %.2f' % (diff.mean(), diff.std()))\n",
    " \n",
    "plt.figure(figsize=(20,5))\n",
    "plt.plot(diff, c='orange')\n",
    "plt.grid()\n",
    "plt.show()"
   ]
  },
  {
   "cell_type": "code",
   "execution_count": null,
   "metadata": {},
   "outputs": [],
   "source": [
    "The predictive model has an R^2 score factor of 0.63 (max score for perfect prediction would be 1). The residual distribution is centered in 0 with an STD of 7%."
   ]
  }
 ],
 "metadata": {
  "kernelspec": {
   "display_name": "Python 2",
   "language": "python",
   "name": "python2"
  },
  "language_info": {
   "codemirror_mode": {
    "name": "ipython",
    "version": 3
   },
   "file_extension": ".py",
   "mimetype": "text/x-python",
   "name": "python",
   "nbconvert_exporter": "python",
   "pygments_lexer": "ipython3",
   "version": "3.6.7"
  }
 },
 "nbformat": 4,
 "nbformat_minor": 2
}
